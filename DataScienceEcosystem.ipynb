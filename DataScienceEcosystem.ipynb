{
 "cells": [
  {
   "cell_type": "markdown",
   "id": "fb054b26",
   "metadata": {},
   "source": [
    "# Data Science Tools and Ecosystem"
   ]
  },
  {
   "cell_type": "markdown",
   "id": "27bcb04a",
   "metadata": {},
   "source": [
    "### In this notebook, Data Science tools and Ecosystem are summerized"
   ]
  },
  {
   "cell_type": "markdown",
   "id": "206840eb",
   "metadata": {},
   "source": [
    "**Objectives:**\n",
    "\n",
    "* Showcase using Markdown cells\n",
    "* Showcase how to use numbered and non numbered lists\n",
    "* Showcase how to create a table using Markdown cells\n",
    "* Showcase the arithmetic capabilities of Python\n",
    "* showcase how to assign Variables"
   ]
  },
  {
   "cell_type": "markdown",
   "id": "34f3324a",
   "metadata": {},
   "source": [
    "Some of the popular languages that Data Scientists use are:\n",
    "\n",
    "1. Python\n",
    "2. R programming language \n",
    "3. SQL\n",
    "4. Julia"
   ]
  },
  {
   "cell_type": "markdown",
   "id": "ef9e6e7d",
   "metadata": {},
   "source": [
    "some of the commonly used libraries used by Data Scientests include:\n",
    "\n",
    "* pandas\n",
    "* numpy\n",
    "* matplotlib"
   ]
  },
  {
   "cell_type": "markdown",
   "id": "5e1c7f7d",
   "metadata": {},
   "source": [
    "| No. | Data Science Tools  |\n",
    "|-----|---------------------|\n",
    "| 1   | Jupyter Lab         |\n",
    "| 2   | R Studio            |\n",
    "| 3   | Apache Spark        |\n"
   ]
  },
  {
   "cell_type": "markdown",
   "id": "d862351e",
   "metadata": {},
   "source": [
    "Below are a few examples on arithmetic expressions in Python"
   ]
  },
  {
   "cell_type": "code",
   "execution_count": 2,
   "id": "b2da6344",
   "metadata": {},
   "outputs": [
    {
     "data": {
      "text/plain": [
       "17"
      ]
     },
     "execution_count": 2,
     "metadata": {},
     "output_type": "execute_result"
    }
   ],
   "source": [
    "# This is a smiple arithmetic expression to multiply then add integers.\n",
    "(3*4)+5"
   ]
  },
  {
   "cell_type": "code",
   "execution_count": 5,
   "id": "3c03aa8e",
   "metadata": {},
   "outputs": [
    {
     "name": "stdout",
     "output_type": "stream",
     "text": [
      "3.3333333333333335\n"
     ]
    }
   ],
   "source": [
    "#This simple code will convert Minutes into Hours the Variables I defined are m for minutes \\ \n",
    "#hv for the 60 minutes in the hour and finally h for hours\n",
    "\n",
    "m= 200\n",
    "hv= 60\n",
    "h=m/hv\n",
    "\n",
    "print(h)"
   ]
  },
  {
   "cell_type": "markdown",
   "id": "701b8588",
   "metadata": {},
   "source": [
    "## Author \n",
    "Basil Melibari"
   ]
  },
  {
   "cell_type": "code",
   "execution_count": null,
   "id": "fba0ac4f",
   "metadata": {},
   "outputs": [],
   "source": []
  }
 ],
 "metadata": {
  "kernelspec": {
   "display_name": "Python 3 (ipykernel)",
   "language": "python",
   "name": "python3"
  },
  "language_info": {
   "codemirror_mode": {
    "name": "ipython",
    "version": 3
   },
   "file_extension": ".py",
   "mimetype": "text/x-python",
   "name": "python",
   "nbconvert_exporter": "python",
   "pygments_lexer": "ipython3",
   "version": "3.11.5"
  }
 },
 "nbformat": 4,
 "nbformat_minor": 5
}
